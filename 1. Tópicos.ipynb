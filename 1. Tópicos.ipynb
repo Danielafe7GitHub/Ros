{
 "cells": [
  {
   "cell_type": "markdown",
   "metadata": {},
   "source": [
    "Para insertar código .py "
   ]
  },
  {
   "cell_type": "code",
   "execution_count": null,
   "metadata": {},
   "outputs": [],
   "source": [
    "cd catkin_ws\n",
    "cd src\n",
    "catkin_create_pkg movement std_msgs rospy roscpp"
   ]
  },
  {
   "cell_type": "markdown",
   "metadata": {},
   "source": [
    "Adentro de la carpeta movement , se habrá creado otra llamada src\n",
    "Allí adentro poner todos los códigos .py"
   ]
  },
  {
   "cell_type": "code",
   "execution_count": null,
   "metadata": {},
   "outputs": [],
   "source": [
    "rosrun movement name_codigo.py"
   ]
  },
  {
   "cell_type": "markdown",
   "metadata": {},
   "source": [
    "Tópicos : Publisher"
   ]
  },
  {
   "cell_type": "code",
   "execution_count": null,
   "metadata": {},
   "outputs": [],
   "source": [
    "#Comandos\n",
    "rostopic list#Lista todos los tópicos que se están ejecutando en simulación\n",
    "rostopic list | grep counter #Filtra el tópico llamaso counter"
   ]
  },
  {
   "cell_type": "markdown",
   "metadata": {},
   "source": [
    "Info, nos brinda información del tópico: \n",
    "Importante:\n",
    "Nos dice que tipo de mensaje usa Int32, etc\n",
    "Cuáles son sus publicadores\n",
    "Cuáles son sus subscriptores\n",
    "Necesitaremos esta info, cuando queramos hacer nuestro \"publisher\""
   ]
  },
  {
   "cell_type": "code",
   "execution_count": null,
   "metadata": {},
   "outputs": [],
   "source": [
    "rostopic info /counter "
   ]
  },
  {
   "cell_type": "markdown",
   "metadata": {},
   "source": [
    "Si counter no te aparece, tendrás que correr primero el código de abajo."
   ]
  },
  {
   "cell_type": "markdown",
   "metadata": {},
   "source": [
    "echo Imprime toda la información que está siendo publicada en el Tópico"
   ]
  },
  {
   "cell_type": "code",
   "execution_count": null,
   "metadata": {},
   "outputs": [],
   "source": [
    "rostopic echo /counter \n",
    "rostopic echo /counter -n1 #Imprime solo la última línea"
   ]
  },
  {
   "cell_type": "code",
   "execution_count": null,
   "metadata": {},
   "outputs": [],
   "source": [
    "rostopic -h #Nos dice todos los comandos relacionados a Tópicos"
   ]
  },
  {
   "cell_type": "markdown",
   "metadata": {},
   "source": [
    "¿Qué es un publisher?: Es un nodo que publica un \"mensaje\" en un tópico"
   ]
  },
  {
   "cell_type": "markdown",
   "metadata": {},
   "source": [
    "Tópico: Es como un pipe que transporta info. Así los nodos pueden publicar información a través de este pipe o leer info."
   ]
  },
  {
   "cell_type": "markdown",
   "metadata": {},
   "source": [
    "Mensaje:Cada tópico usa un tipo de msj para publicar info. Ejemp. el tópico counter usa Int 32.\n",
    "Tópico trnasporta info usando mensajes."
   ]
  },
  {
   "cell_type": "code",
   "execution_count": null,
   "metadata": {},
   "outputs": [],
   "source": [
    "rosmsg show std_msgs/Int32 #Nos dice que atributos tiene ese msg\n",
    "--> std_msgs/Int32 data #Data es su atributo"
   ]
  },
  {
   "cell_type": "markdown",
   "metadata": {},
   "source": [
    "Código para crear un publisher(.py dentro de /movement/scr)"
   ]
  },
  {
   "cell_type": "code",
   "execution_count": null,
   "metadata": {},
   "outputs": [],
   "source": [
    "#! /usr/bin/env python\n",
    "\n",
    "import rospy \n",
    "from std_msgs.msg import Int32\n",
    "\n",
    "rospy.init_node('topic_publisher') #Crea el publicador\n",
    "pub = rospy.Publisher('/counter', Int32, queue_size = 1) #Le dice hey publicare en counter que ya se tipo msh es Int32\n",
    "rate = rospy.Rate(2)\n",
    "count = Int32() #Creo variable de ese tipo\n",
    "count.data = 0 #Accedo al atributo del msg\n",
    "\n",
    "while not rospy.is_shutdown():\n",
    "    pub.publish(count) #publico\n",
    "    count.data += 1\n",
    "    rate.sleep()"
   ]
  },
  {
   "cell_type": "code",
   "execution_count": null,
   "metadata": {},
   "outputs": [],
   "source": [
    "rosrun movement name_codigo.py\n",
    "rostopic echo /counter "
   ]
  },
  {
   "cell_type": "code",
   "execution_count": null,
   "metadata": {},
   "outputs": [],
   "source": []
  },
  {
   "cell_type": "code",
   "execution_count": null,
   "metadata": {},
   "outputs": [],
   "source": [
    "rospotic info /cmd_vel\n",
    "--> Type geometry_msgs/Twist\n",
    "rosmsg show geometry_msgs/Twist\n",
    "--> float64 x ...."
   ]
  },
  {
   "cell_type": "markdown",
   "metadata": {},
   "source": [
    "Se movera en circulos"
   ]
  },
  {
   "cell_type": "code",
   "execution_count": null,
   "metadata": {},
   "outputs": [],
   "source": [
    "#! /usr/bin/env python\n",
    "\n",
    "import rospy \n",
    "from geometry_msgs.msg import Twist\n",
    "\n",
    "rospy.init_node('twist_publisher') #Crea el publicador\n",
    "pub = rospy.Publisher('/cmd_vel', Twist, queue_size = 1) #Le dice hey publicare en counter que ya se tipo msh es Int32\n",
    "rate = rospy.Rate(2)\n",
    "mov = Twist() #Creo variable de ese tipo\n",
    "mov.linear.x = 1 #Accedo al atributo del msg\n",
    "mov.angular.z = 1\n",
    "\n",
    "while not rospy.is_shutdown():\n",
    "    pub.publish(mov) \n",
    "    rate.sleep()\n",
    "    \n"
   ]
  },
  {
   "cell_type": "code",
   "execution_count": null,
   "metadata": {},
   "outputs": [],
   "source": [
    "rosrun movement name_codigo.py\n"
   ]
  },
  {
   "cell_type": "markdown",
   "metadata": {},
   "source": [
    "Si quieres que pare, pon los valores x,z = 0, sino lee el último msg publicado."
   ]
  },
  {
   "cell_type": "markdown",
   "metadata": {},
   "source": [
    "Tópicos : Subscriber"
   ]
  },
  {
   "cell_type": "markdown",
   "metadata": {},
   "source": [
    "Recordemos, publisher = nodo que publica msg en un tópico\n",
    "subscriber = nodo que lee msg de un Tópico\n",
    "Tópico = pipe que transporta la info a través de msg."
   ]
  },
  {
   "cell_type": "code",
   "execution_count": null,
   "metadata": {},
   "outputs": [],
   "source": [
    "#! /usr/bin/env python\n",
    "import rospy\n",
    "from std_msgs.msg import Int32\n",
    "\n",
    "def callback(msg): #Se define la funcion callbal que recibe un parametro msg\n",
    "    print(msg.data) \n",
    "\n",
    "rospy.init_node('topic_subscriber') #Crea un objeto Susbcriber que escuchará al tópico /counter\n",
    "sub = rospy.Subscriber('counter',Int32,callback) #Llamará a la función callback cada vez que lea algo del tópico\n",
    "rospy.spin() #Crea un loop que mantiene el programa enejecución"
   ]
  },
  {
   "cell_type": "markdown",
   "metadata": {},
   "source": [
    "Entonces, cada vez que se publique algo en counter, este subscriber lo leerá."
   ]
  },
  {
   "cell_type": "code",
   "execution_count": null,
   "metadata": {},
   "outputs": [],
   "source": [
    "rosrun movement name.py\n",
    "#Veremos que el resultados es el mismo\n",
    "#que poner rostopic echo /counter :)"
   ]
  },
  {
   "cell_type": "code",
   "execution_count": null,
   "metadata": {},
   "outputs": [],
   "source": []
  },
  {
   "cell_type": "code",
   "execution_count": null,
   "metadata": {},
   "outputs": [],
   "source": [
    "rosnode list \n",
    "rosnode kill /topic_publisher #mata nodos q publica"
   ]
  },
  {
   "cell_type": "markdown",
   "metadata": {},
   "source": [
    "Matado el publisher que creamo, podemos crear otro ya no con código sino \n",
    "de forma manual."
   ]
  },
  {
   "cell_type": "code",
   "execution_count": null,
   "metadata": {},
   "outputs": [],
   "source": [
    "rostopic pub /counter std_msgs/Int32 \"data:5\""
   ]
  },
  {
   "cell_type": "markdown",
   "metadata": {},
   "source": [
    "Que hace lo mismo que hacía nuestro pub.py"
   ]
  },
  {
   "cell_type": "markdown",
   "metadata": {},
   "source": [
    "Tarea : Robot lee del scan/laser para evitar muro y publica en cmd/vel \n",
    "Creamos un nuevo subscriptor a /kobuki/laser/scan "
   ]
  },
  {
   "cell_type": "code",
   "execution_count": null,
   "metadata": {},
   "outputs": [],
   "source": [
    "Averiguamos todo sobre /kobuki/laser/scan \n",
    "rostopic info /kobuki/laser/scan \n",
    "--> Type: sensor_msgs/LaserScan\n",
    "rosmsg show sensor_msgs/LaserScan\n",
    "--> std_msgs/Header header\n",
    "    uint32 seq\n",
    "    time stamp\n",
    "    string frame_id\n",
    "    float32 angle_min\n",
    "    float32 angle_max\n",
    "    float32 angle_increment\n",
    "    float32 time_increment\n",
    "    float32 scan_time\n",
    "    float32 range_min\n",
    "    float32 range_max\n",
    "    float32[] ranges\n",
    "    float32[] intensities"
   ]
  },
  {
   "cell_type": "code",
   "execution_count": null,
   "metadata": {},
   "outputs": [],
   "source": [
    "#! /usr/bin/env python\n",
    "import rospy\n",
    "from sensor_msgs.msg import LaserScan\n",
    "\n",
    "def callback(msg):\n",
    "    #tam del vector range\n",
    "    #print len(msg.ranges)\n",
    "    # values at 0 degree\n",
    "    print msg.ranges[0]\n",
    "    # values at 90 degree\n",
    "    print msg.ranges[360]\n",
    "    # values at 180 degree\n",
    "    print msg.ranges[719]\n",
    "\n",
    "rospy.init_node('scan_values') ##Cuidado!pon ese mismo nombre\n",
    "sub = rospy.Subscriber('/kobuki/laser/scan', LaserScan, callback)\n",
    "rospy.spin()"
   ]
  },
  {
   "cell_type": "markdown",
   "metadata": {},
   "source": [
    "Ahora combinamos Publish and Susbcritor"
   ]
  },
  {
   "cell_type": "code",
   "execution_count": null,
   "metadata": {},
   "outputs": [],
   "source": [
    "#! /usr/bin/env python\n",
    "\n",
    "import rospy \n",
    "from geometry_msgs.msg import Twist\n",
    "\n",
    "from sensor_msgs.msg import LaserScan\n",
    "\n",
    "\n",
    "def callback(msg):\n",
    "    print msg.ranges[360]\n",
    "    print(\"-----------------------\")\n",
    "    if msg.ranges[360] > 2:\n",
    "        mov.linear.x = 0.5\n",
    "        pub.publish(mov) \n",
    "    else:\n",
    "        mov.linear.x = 0\n",
    "        pub.publish(mov) \n",
    "        \n",
    "    \n",
    "rospy.init_node('twist_publisher') #Crea el publicador\n",
    "pub = rospy.Publisher('/cmd_vel', Twist, queue_size = 1) #Le dice hey publicare en counter que ya se tipo msh es Int32\n",
    "rate = rospy.Rate(2)\n",
    "mov = Twist() #Creo variable de ese tipo\n",
    "mov.linear.x = 0.5 #Accedo al atributo del msg\n",
    "mov.angular.z = 0\n",
    "\n",
    "\n",
    "#rospy.init_node('scan_values') \n",
    "while not rospy.is_shutdown():\n",
    "    sub = rospy.Subscriber('/kobuki/laser/scan', LaserScan, callback)\n",
    "    rate.sleep()\n",
    "    \n"
   ]
  },
  {
   "cell_type": "markdown",
   "metadata": {},
   "source": [
    "Se tuvo que comentar esta línea porque el nodo ya existía\n",
    "rospy.init_node('scan_values') "
   ]
  },
  {
   "cell_type": "code",
   "execution_count": null,
   "metadata": {},
   "outputs": [],
   "source": []
  }
 ],
 "metadata": {
  "kernelspec": {
   "display_name": "Python 3",
   "language": "python",
   "name": "python3"
  },
  "language_info": {
   "codemirror_mode": {
    "name": "ipython",
    "version": 3
   },
   "file_extension": ".py",
   "mimetype": "text/x-python",
   "name": "python",
   "nbconvert_exporter": "python",
   "pygments_lexer": "ipython3",
   "version": "3.6.5"
  }
 },
 "nbformat": 4,
 "nbformat_minor": 2
}
